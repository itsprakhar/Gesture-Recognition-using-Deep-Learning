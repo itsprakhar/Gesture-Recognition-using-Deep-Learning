{
 "cells": [
  {
   "cell_type": "markdown",
   "metadata": {},
   "source": [
    "# Gesture Recognition\n",
    "In this group project, you are going to build a 3D Conv model that will be able to predict the 5 gestures correctly. Please import the following libraries to get started. Once you have completed the code you can download the notebook for making a submission."
   ]
  },
  {
   "cell_type": "code",
   "execution_count": 10,
   "metadata": {},
   "outputs": [],
   "source": [
    "import numpy as np\n",
    "import os\n",
    "from imageio import imread\n",
    "from skimage.transform import resize\n",
    "import datetime\n",
    "import os\n",
    "import math"
   ]
  },
  {
   "cell_type": "markdown",
   "metadata": {},
   "source": [
    "We set the random seed so that the results don't vary drastically."
   ]
  },
  {
   "cell_type": "code",
   "execution_count": 11,
   "metadata": {},
   "outputs": [],
   "source": [
    "np.random.seed(30)\n",
    "import random as rn\n",
    "rn.seed(30)\n",
    "from tensorflow import keras\n",
    "import tensorflow as tf\n",
    "tf.random.set_seed(30)"
   ]
  },
  {
   "cell_type": "markdown",
   "metadata": {},
   "source": [
    "In this block, you read the folder names for training and validation. You also set the `batch_size` here. Note that you set the batch size in such a way that you are able to use the GPU in full capacity. You keep increasing the batch size until the machine throws an error."
   ]
  },
  {
   "cell_type": "markdown",
   "metadata": {},
   "source": [
    "**data path: /home/datasets/Project_data**"
   ]
  },
  {
   "cell_type": "code",
   "execution_count": 12,
   "metadata": {},
   "outputs": [],
   "source": [
    "train_doc = np.random.permutation(open('/home/datasets/Project_data/train.csv').readlines())\n",
    "val_doc = np.random.permutation(open('/home/datasets/Project_data/val.csv').readlines())\n",
    "\n",
    "# Our Hyperparameters\n",
    "batch_size = 100 #experiment with the batch size\n",
    "image_height=120\n",
    "image_width=120\n",
    "channels=3\n",
    "num_classes=5\n",
    "total_frames=30\n",
    "frame_samples=15\n",
    "num_epochs = 50\n",
    "\n",
    "train_path = '/home/datasets/Project_data/train'\n",
    "test_path = '/home/datasets/Project_data/test'"
   ]
  },
  {
   "cell_type": "code",
   "execution_count": 13,
   "metadata": {},
   "outputs": [],
   "source": [
    "even_frames = [0,2,4,6,8,10,12,14,16,18,20,22,24,26,28]\n",
    "odd_frames = [1,3,5,7,9,11,13,15,17,19,21,23,25,27,29]\n",
    "all_frames = np.arange(30)"
   ]
  },
  {
   "cell_type": "code",
   "execution_count": 14,
   "metadata": {},
   "outputs": [],
   "source": [
    "def plot(history):\n",
    "    fig, axes = plt.subplots(nrows=1, ncols=2, figsize=(15,4))\n",
    "    axes[0].plot(history.history['loss'])   \n",
    "    axes[0].plot(history.history['val_loss'])\n",
    "    axes[0].legend(['loss','val_loss'])\n",
    "\n",
    "    axes[1].plot(history.history['categorical_accuracy'])   \n",
    "    axes[1].plot(history.history['val_categorical_accuracy'])\n",
    "    axes[1].legend(['categorical_accuracy','val_accuracy'])"
   ]
  },
  {
   "cell_type": "markdown",
   "metadata": {},
   "source": [
    "## Generator\n",
    "This is one of the most important part of the code. The overall structure of the generator has been given. In the generator, you are going to preprocess the images as you have images of 2 different dimensions as well as create a batch of video frames. You have to experiment with `img_idx`, `y`,`z` and normalization such that you get high accuracy."
   ]
  },
  {
   "cell_type": "code",
   "execution_count": 15,
   "metadata": {},
   "outputs": [],
   "source": [
    "def generator(source_path, folder_list, batch_size,img_idx):\n",
    "    print( 'Source path = ', source_path, '; batch size =', batch_size)\n",
    "#     img_idx = np.round(np.linspace(0,total_frames-1,frame_samples)).astype(int)#create a list of image numbers you want to use for a particular video\n",
    "    while True:\n",
    "        t = np.random.permutation(folder_list)\n",
    "        num_batches = len(t)//batch_size# calculate the number of batches\n",
    "\n",
    "        for batch in range(num_batches): # we iterate over the number of batches\n",
    "\n",
    "            remaining_seq=0 #To track for remainning sequence\n",
    "\n",
    "            batch_data = np.zeros((batch_size,len(img_idx),image_height,image_width,3)) # len(img_idx) is the number of images you use for each video, (image_height,image_width) is the final size of the input images and 3 is the number of channels RGB\n",
    "            batch_labels = np.zeros((batch_size,num_classes)) # batch_labels is the one hot representation of the output\n",
    "            for folder in range(batch_size): # iterate over the batch_size\n",
    "                imgs = os.listdir(source_path+'/'+ t[folder + (batch*batch_size)].split(';')[0]) # read all the images in the folder\n",
    "                for idx,item in enumerate(img_idx): #  Iterate iver the frames/images of a folder to read them in\n",
    "                    image = imread(source_path+'/'+ t[folder + (batch*batch_size)].strip().split(';')[0]+'/'+imgs[item]).astype(np.float32)\n",
    "                    if image.shape[0] != image.shape[1]:\n",
    "                        image=image[0:120,10:150]\n",
    "                    else:\n",
    "                        image=image[30:330,20:340]\n",
    "\n",
    "                    image_resized=resize(image,(image_height,image_width,3))\n",
    "                    \n",
    "                    #crop the images and resize them. Note that the images are of 2 different shape \n",
    "                    #and the conv3D will throw error if the inputs in a batch have different shapes\n",
    "                    \n",
    "                    batch_data[folder,idx,:,:,0] = (image_resized[:,:,0])/255 #normalise and feed in the image\n",
    "                    batch_data[folder,idx,:,:,1] = (image_resized[:,:,1])/255 #normalise and feed in the image\n",
    "                    batch_data[folder,idx,:,:,2] = (image_resized[:,:,2])/255 #normalise and feed in the image\n",
    "\n",
    "                    \n",
    "                    \n",
    "                batch_labels[folder, int(t[folder + (batch*batch_size)].strip().split(';')[2])] = 1\n",
    "            yield batch_data, batch_labels #you yield the batch_data and the batch_labels, remember what does yield do\n",
    "\n",
    "        \n",
    "        # write the code for the remaining data points which are left after full batches\n",
    "        remaining_seq=len(t)%batch_size #To track for remainning sequence\n",
    "        \n",
    "        if (remaining_seq != 0):\n",
    "            seq_len = remaining_seq #To track for remainning sequence\n",
    "\n",
    "            batch_data = np.zeros((seq_len,len(img_idx),image_height,image_width,3)) # len(img_idx) is the number of images you use for each video, (image_height,image_width) is the final size of the input images and 3 is the number of channels RGB\n",
    "            batch_labels = np.zeros((seq_len,5)) # batch_labels is the one hot representation of the output\n",
    "            for folder in range(seq_len): # iterate over the batch_size\n",
    "                imgs = os.listdir(source_path+'/'+ t[folder + (batch*batch_size)].split(';')[0]) # read all the images in the folder\n",
    "                for idx,item in enumerate(img_idx): #  Iterate iver the frames/images of a folder to read them in\n",
    "                    image = imread(source_path+'/'+ t[folder + (batch*batch_size)].strip().split(';')[0]+'/'+imgs[item]).astype(np.float32)\n",
    "                    if image.shape[0] != image.shape[1]:\n",
    "                      image=image[0:120,10:150]\n",
    "                    else:\n",
    "                      image=image[30:340,20:340]\n",
    "                    image_resized=resize(image,(image_height,image_width,3))\n",
    "                    \n",
    "                    #crop the images and resize them. Note that the images are of 2 different shape \n",
    "                    #and the conv3D will throw error if the inputs in a batch have different shapes\n",
    "                    \n",
    "                    batch_data[folder,idx,:,:,0] = (image_resized[:,:,0])/255 #normalise and feed in the image\n",
    "                    batch_data[folder,idx,:,:,1] = (image_resized[:,:,1])/255 #normalise and feed in the image\n",
    "                    batch_data[folder,idx,:,:,2] = (image_resized[:,:,2])/255 #normalise and feed in the image\n",
    "\n",
    "                    \n",
    "                    \n",
    "                batch_labels[folder, int(t[folder + (batch*batch_size)].strip().split(';')[2])] = 1\n",
    "            yield batch_data, batch_labels #you yield the batch_data and the batch_labels, remember what does yield do"
   ]
  },
  {
   "cell_type": "markdown",
   "metadata": {},
   "source": [
    "Note here that a video is represented above in the generator as (number of images, height, width, number of channels). Take this into consideration while creating the model architecture."
   ]
  },
  {
   "cell_type": "code",
   "execution_count": 16,
   "metadata": {},
   "outputs": [
    {
     "name": "stdout",
     "output_type": "stream",
     "text": [
      "# training sequences = 663\n",
      "# validation sequences = 100\n",
      "# epochs = 50\n"
     ]
    }
   ],
   "source": [
    "curr_dt_time = datetime.datetime.now()\n",
    "train_path = '/home/datasets/Project_data/train'\n",
    "val_path = '/home/datasets/Project_data/val'\n",
    "num_train_sequences = len(train_doc)\n",
    "print('# training sequences =', num_train_sequences)\n",
    "num_val_sequences = len(val_doc)\n",
    "print('# validation sequences =', num_val_sequences)\n",
    "print ('# epochs =', num_epochs)"
   ]
  },
  {
   "cell_type": "markdown",
   "metadata": {},
   "source": [
    "## Model\n",
    "Here you make the model using different functionalities that Keras provides. Remember to use `Conv3D` and `MaxPooling3D` and not `Conv2D` and `Maxpooling2D` for a 3D convolution model. You would want to use `TimeDistributed` while building a Conv2D + RNN model. Also remember that the last layer is the softmax. Design the network in such a way that the model is able to give good accuracy on the least number of parameters so that it can fit in the memory of the webcam."
   ]
  },
  {
   "cell_type": "code",
   "execution_count": 24,
   "metadata": {},
   "outputs": [],
   "source": [
    "from tensorflow.keras.models import Sequential\n",
    "from tensorflow.keras import layers\n",
    "from tensorflow.keras.layers import TimeDistributed, MaxPooling2D, Conv2D, Dense, GRU, Dropout, Flatten, BatchNormalization, Activation, Conv3D, MaxPooling3D\n",
    "from tensorflow.keras.callbacks import ModelCheckpoint, ReduceLROnPlateau\n",
    "from tensorflow.keras import optimizers\n",
    "from tensorflow.keras.regularizers import l2\n",
    "\n",
    "#write your model here\n",
    "model = Sequential()\n",
    "\n",
    "model.add(TimeDistributed(Conv2D(16, (3, 3) , padding='same', activation='relu',kernel_regularizer=l2(0.01), bias_regularizer=l2(0.01)), input_shape=(frame_samples,image_height,image_width,3)))\n",
    "model.add(TimeDistributed(MaxPooling2D((2, 2))))\n",
    "\n",
    "model.add(TimeDistributed(Conv2D(32, (3, 3) , padding='same', activation='relu',kernel_regularizer=l2(0.01), bias_regularizer=l2(0.01))))\n",
    "model.add(TimeDistributed(MaxPooling2D((2, 2))))\n",
    "\n",
    "model.add(TimeDistributed(Conv2D(64, (3, 3) , padding='same', activation='relu',kernel_regularizer=l2(0.01), bias_regularizer=l2(0.01))))\n",
    "model.add(TimeDistributed(MaxPooling2D((2, 2))))\n",
    "\n",
    "\n",
    "model.add(TimeDistributed(Flatten()))\n",
    "\n",
    "# model.add(GRU(32, kernel_regularizer=l2(0.01), recurrent_regularizer=l2(0.01) , bias_regularizer=l2(0.01)))\n",
    "model.add(GRU(32))\n",
    "model.add(Dropout(0.2))\n",
    "\n",
    "\n",
    "# model.add(Dense(64,activation='relu',kernel_regularizer=l2(0.01), bias_regularizer=l2(0.01)))\n",
    "model.add(Dense(32,activation='relu'))\n",
    "model.add(Dropout(0.5))\n",
    "\n",
    "model.add(Dense(num_classes, activation='softmax'))\n"
   ]
  },
  {
   "cell_type": "markdown",
   "metadata": {},
   "source": [
    "Now that you have written the model, the next step is to `compile` the model. When you print the `summary` of the model, you'll see the total number of parameters you have to train."
   ]
  },
  {
   "cell_type": "code",
   "execution_count": 25,
   "metadata": {
    "scrolled": true
   },
   "outputs": [
    {
     "name": "stdout",
     "output_type": "stream",
     "text": [
      "Model: \"sequential_3\"\n",
      "_________________________________________________________________\n",
      "Layer (type)                 Output Shape              Param #   \n",
      "=================================================================\n",
      "time_distributed_21 (TimeDis (None, 15, 120, 120, 16)  448       \n",
      "_________________________________________________________________\n",
      "time_distributed_22 (TimeDis (None, 15, 60, 60, 16)    0         \n",
      "_________________________________________________________________\n",
      "time_distributed_23 (TimeDis (None, 15, 60, 60, 32)    4640      \n",
      "_________________________________________________________________\n",
      "time_distributed_24 (TimeDis (None, 15, 30, 30, 32)    0         \n",
      "_________________________________________________________________\n",
      "time_distributed_25 (TimeDis (None, 15, 30, 30, 64)    18496     \n",
      "_________________________________________________________________\n",
      "time_distributed_26 (TimeDis (None, 15, 15, 15, 64)    0         \n",
      "_________________________________________________________________\n",
      "time_distributed_27 (TimeDis (None, 15, 14400)         0         \n",
      "_________________________________________________________________\n",
      "gru_5 (GRU)                  (None, 32)                1385664   \n",
      "_________________________________________________________________\n",
      "dropout_4 (Dropout)          (None, 32)                0         \n",
      "_________________________________________________________________\n",
      "dense_2 (Dense)              (None, 32)                1056      \n",
      "_________________________________________________________________\n",
      "dropout_5 (Dropout)          (None, 32)                0         \n",
      "_________________________________________________________________\n",
      "dense_3 (Dense)              (None, 5)                 165       \n",
      "=================================================================\n",
      "Total params: 1,410,469\n",
      "Trainable params: 1,410,469\n",
      "Non-trainable params: 0\n",
      "_________________________________________________________________\n",
      "None\n"
     ]
    }
   ],
   "source": [
    "from tensorflow.keras import optimizers\n",
    "optimiser = optimizers.Adam(lr=0.002)\n",
    "model.compile(optimizer=optimiser, loss='categorical_crossentropy', metrics=['categorical_accuracy'])\n",
    "\n",
    "model.build((image_height,image_width,frame_samples))\n",
    "print (model.summary())"
   ]
  },
  {
   "cell_type": "markdown",
   "metadata": {},
   "source": [
    "Let us create the `train_generator` and the `val_generator` which will be used in `.fit_generator`."
   ]
  },
  {
   "cell_type": "code",
   "execution_count": 26,
   "metadata": {},
   "outputs": [],
   "source": [
    "# from itertools import chain\n",
    "# train_generator = chain(generator(train_path, train_doc, batch_size,even_frames),generator(train_path, train_doc, batch_size,odd_frames))\n",
    "# val_generator = chain(generator(val_path, val_doc, batch_size,even_frames),generator(val_path, val_doc, batch_size,odd_frames))\n",
    "# frame_samples=15"
   ]
  },
  {
   "cell_type": "code",
   "execution_count": 27,
   "metadata": {},
   "outputs": [],
   "source": [
    "frame_samples=15\n",
    "train_generator = generator(train_path, train_doc, batch_size,odd_frames)\n",
    "val_generator = generator(val_path, val_doc, batch_size,odd_frames)"
   ]
  },
  {
   "cell_type": "code",
   "execution_count": 28,
   "metadata": {},
   "outputs": [],
   "source": [
    "model_name = 'model_init' + '_' + str(curr_dt_time).replace(' ','').replace(':','_') + '/'\n",
    "    \n",
    "if not os.path.exists(model_name):\n",
    "    os.mkdir(model_name)\n",
    "        \n",
    "filepath = model_name + 'model-{epoch:05d}-{loss:.5f}-{categorical_accuracy:.5f}.h5'\n",
    "\n",
    "checkpoint = ModelCheckpoint(filepath, monitor='val_loss', verbose=1, save_best_only=False, save_weights_only=False, mode='auto',save_freq = num_epochs)\n",
    "\n",
    "LR = tf.keras.callbacks.ReduceLROnPlateau(\n",
    "    monitor=\"val_loss\",\n",
    "    factor=0.5,\n",
    "    patience=4,\n",
    "    verbose=1,\n",
    "    mode=\"auto\",\n",
    "    min_delta=0.0001,\n",
    "    cooldown=0,\n",
    "    min_lr=0,\n",
    ")\n",
    "callbacks_list = [checkpoint, LR]"
   ]
  },
  {
   "cell_type": "markdown",
   "metadata": {},
   "source": [
    "The `steps_per_epoch` and `validation_steps` are used by `fit` method to decide the number of next() calls it need to make."
   ]
  },
  {
   "cell_type": "code",
   "execution_count": 29,
   "metadata": {},
   "outputs": [],
   "source": [
    "if (num_train_sequences%batch_size) == 0:\n",
    "    steps_per_epoch = int(num_train_sequences/batch_size)\n",
    "else:\n",
    "    steps_per_epoch = (num_train_sequences//batch_size) + 1\n",
    "\n",
    "if (num_val_sequences%batch_size) == 0:\n",
    "    validation_steps = int(num_val_sequences/batch_size)\n",
    "else:\n",
    "    validation_steps = (num_val_sequences//batch_size) + 1"
   ]
  },
  {
   "cell_type": "code",
   "execution_count": 30,
   "metadata": {},
   "outputs": [],
   "source": [
    "# steps_per_epoch = 5\n",
    "# validation_steps = 1"
   ]
  },
  {
   "cell_type": "code",
   "execution_count": 31,
   "metadata": {},
   "outputs": [],
   "source": [
    "# steps_per_epoch = steps_per_epoch * 2\n",
    "# validation_steps = validation_steps * 2"
   ]
  },
  {
   "cell_type": "markdown",
   "metadata": {},
   "source": [
    "Let us now fit the model. This will start training the model and with the help of the checkpoints, you'll be able to save the model at the end of each epoch."
   ]
  },
  {
   "cell_type": "code",
   "execution_count": null,
   "metadata": {},
   "outputs": [
    {
     "name": "stdout",
     "output_type": "stream",
     "text": [
      "Source path =  /home/datasets/Project_data/train ; batch size = 100\n",
      "Epoch 1/50\n",
      "7/7 [==============================] - ETA: 0s - loss: 2.2878 - categorical_accuracy: 0.1900Source path =  /home/datasets/Project_data/val ; batch size = 100\n",
      "7/7 [==============================] - 73s 10s/step - loss: 2.2878 - categorical_accuracy: 0.1900 - val_loss: 2.0844 - val_categorical_accuracy: 0.2100\n",
      "Epoch 2/50\n",
      "7/7 [==============================] - 73s 10s/step - loss: 2.0425 - categorical_accuracy: 0.2097 - val_loss: 1.9486 - val_categorical_accuracy: 0.2300\n",
      "Epoch 3/50\n",
      "7/7 [==============================] - 71s 10s/step - loss: 1.9012 - categorical_accuracy: 0.2112 - val_loss: 1.8304 - val_categorical_accuracy: 0.2300\n",
      "Epoch 4/50\n",
      "7/7 [==============================] - 69s 10s/step - loss: 1.8065 - categorical_accuracy: 0.2383 - val_loss: 1.7512 - val_categorical_accuracy: 0.3400\n",
      "Epoch 5/50\n",
      "7/7 [==============================] - 69s 10s/step - loss: 1.7164 - categorical_accuracy: 0.2971 - val_loss: 1.6206 - val_categorical_accuracy: 0.3600\n",
      "Epoch 6/50\n",
      "7/7 [==============================] - 68s 10s/step - loss: 1.6225 - categorical_accuracy: 0.3258 - val_loss: 1.5447 - val_categorical_accuracy: 0.5000\n",
      "Epoch 7/50\n",
      "7/7 [==============================] - 69s 10s/step - loss: 1.5693 - categorical_accuracy: 0.4027 - val_loss: 1.4564 - val_categorical_accuracy: 0.4900\n",
      "Epoch 8/50\n",
      "\n",
      "Epoch 00008: saving model to model_init_2021-06-2520_46_22.319770/model-00008-1.44217-0.41000.h5\n",
      "7/7 [==============================] - 70s 10s/step - loss: 1.4267 - categorical_accuracy: 0.4434 - val_loss: 1.4220 - val_categorical_accuracy: 0.4400\n",
      "Epoch 9/50\n",
      "7/7 [==============================] - 69s 10s/step - loss: 1.3221 - categorical_accuracy: 0.5068 - val_loss: 1.2008 - val_categorical_accuracy: 0.6200\n",
      "Epoch 10/50\n",
      "7/7 [==============================] - 68s 10s/step - loss: 1.2337 - categorical_accuracy: 0.5551 - val_loss: 1.1394 - val_categorical_accuracy: 0.6500\n",
      "Epoch 11/50\n",
      "7/7 [==============================] - 69s 10s/step - loss: 1.1461 - categorical_accuracy: 0.5852 - val_loss: 1.0454 - val_categorical_accuracy: 0.6000\n",
      "Epoch 12/50\n",
      "7/7 [==============================] - 67s 10s/step - loss: 1.1097 - categorical_accuracy: 0.5852 - val_loss: 0.9566 - val_categorical_accuracy: 0.7400\n",
      "Epoch 13/50\n",
      "7/7 [==============================] - 70s 10s/step - loss: 1.0134 - categorical_accuracy: 0.6682 - val_loss: 1.0252 - val_categorical_accuracy: 0.6800\n",
      "Epoch 14/50\n",
      "7/7 [==============================] - 70s 10s/step - loss: 0.9420 - categorical_accuracy: 0.6757 - val_loss: 0.9413 - val_categorical_accuracy: 0.7100\n",
      "Epoch 15/50\n",
      "1/7 [===>..........................] - ETA: 0s - loss: 0.9304 - categorical_accuracy: 0.5900\n",
      "Epoch 00015: saving model to model_init_2021-06-2520_46_22.319770/model-00015-0.90996-0.65000.h5\n",
      "7/7 [==============================] - 70s 10s/step - loss: 0.8785 - categorical_accuracy: 0.6953 - val_loss: 0.8652 - val_categorical_accuracy: 0.7500\n",
      "Epoch 16/50\n",
      "7/7 [==============================] - 69s 10s/step - loss: 0.8231 - categorical_accuracy: 0.7179 - val_loss: 0.9794 - val_categorical_accuracy: 0.6900\n",
      "Epoch 17/50\n",
      "7/7 [==============================] - 70s 10s/step - loss: 0.7944 - categorical_accuracy: 0.7511 - val_loss: 0.8553 - val_categorical_accuracy: 0.7100\n",
      "Epoch 18/50\n",
      "7/7 [==============================] - 69s 10s/step - loss: 0.8302 - categorical_accuracy: 0.7360 - val_loss: 0.8525 - val_categorical_accuracy: 0.7800\n",
      "Epoch 19/50\n",
      "7/7 [==============================] - 68s 10s/step - loss: 0.6790 - categorical_accuracy: 0.7858 - val_loss: 0.7644 - val_categorical_accuracy: 0.7600\n",
      "Epoch 20/50\n",
      "7/7 [==============================] - 69s 10s/step - loss: 0.5813 - categorical_accuracy: 0.8175 - val_loss: 0.7520 - val_categorical_accuracy: 0.7500\n",
      "Epoch 21/50\n",
      "7/7 [==============================] - 69s 10s/step - loss: 0.5825 - categorical_accuracy: 0.8054 - val_loss: 0.8062 - val_categorical_accuracy: 0.7700\n",
      "Epoch 22/50\n",
      "2/7 [=======>......................] - ETA: 20s - loss: 0.4090 - categorical_accuracy: 0.9100\n",
      "Epoch 00022: saving model to model_init_2021-06-2520_46_22.319770/model-00022-0.50040-0.87333.h5\n",
      "7/7 [==============================] - 70s 10s/step - loss: 0.5212 - categorical_accuracy: 0.8658 - val_loss: 0.7582 - val_categorical_accuracy: 0.7700\n",
      "Epoch 23/50\n",
      "7/7 [==============================] - 68s 10s/step - loss: 0.5276 - categorical_accuracy: 0.8371 - val_loss: 0.6623 - val_categorical_accuracy: 0.7900\n",
      "Epoch 24/50\n",
      "7/7 [==============================] - 68s 10s/step - loss: 0.4540 - categorical_accuracy: 0.8808 - val_loss: 0.7752 - val_categorical_accuracy: 0.7300\n",
      "Epoch 25/50\n",
      "7/7 [==============================] - 69s 10s/step - loss: 0.3627 - categorical_accuracy: 0.9155 - val_loss: 0.7403 - val_categorical_accuracy: 0.7600\n",
      "Epoch 26/50\n",
      "7/7 [==============================] - 68s 10s/step - loss: 0.3762 - categorical_accuracy: 0.9065 - val_loss: 0.9879 - val_categorical_accuracy: 0.6900\n",
      "Epoch 27/50\n",
      "7/7 [==============================] - ETA: 0s - loss: 0.5642 - categorical_accuracy: 0.8281\n",
      "Epoch 00027: ReduceLROnPlateau reducing learning rate to 0.0010000000474974513.\n",
      "7/7 [==============================] - 69s 10s/step - loss: 0.5642 - categorical_accuracy: 0.8281 - val_loss: 0.9062 - val_categorical_accuracy: 0.7700\n",
      "Epoch 28/50\n",
      "7/7 [==============================] - 69s 10s/step - loss: 0.4552 - categorical_accuracy: 0.8643 - val_loss: 0.7349 - val_categorical_accuracy: 0.7700\n",
      "Epoch 29/50\n",
      "3/7 [===========>..................] - ETA: 22s - loss: 0.3638 - categorical_accuracy: 0.9067\n",
      "Epoch 00029: saving model to model_init_2021-06-2520_46_22.319770/model-00029-0.37329-0.90250.h5\n",
      "7/7 [==============================] - 69s 10s/step - loss: 0.3469 - categorical_accuracy: 0.9186 - val_loss: 0.8549 - val_categorical_accuracy: 0.7700\n",
      "Epoch 30/50\n",
      "7/7 [==============================] - 68s 10s/step - loss: 0.3532 - categorical_accuracy: 0.9155 - val_loss: 0.7078 - val_categorical_accuracy: 0.7900\n",
      "Epoch 31/50\n",
      "7/7 [==============================] - ETA: 0s - loss: 0.2741 - categorical_accuracy: 0.9487\n",
      "Epoch 00031: ReduceLROnPlateau reducing learning rate to 0.0005000000237487257.\n",
      "7/7 [==============================] - 69s 10s/step - loss: 0.2741 - categorical_accuracy: 0.9487 - val_loss: 0.7574 - val_categorical_accuracy: 0.8000\n",
      "Epoch 32/50\n",
      "7/7 [==============================] - 68s 10s/step - loss: 0.2792 - categorical_accuracy: 0.9382 - val_loss: 0.7421 - val_categorical_accuracy: 0.8000\n",
      "Epoch 33/50\n",
      "7/7 [==============================] - 69s 10s/step - loss: 0.2188 - categorical_accuracy: 0.9698 - val_loss: 0.7724 - val_categorical_accuracy: 0.8100\n",
      "Epoch 34/50\n",
      "7/7 [==============================] - 69s 10s/step - loss: 0.2274 - categorical_accuracy: 0.9608 - val_loss: 0.7723 - val_categorical_accuracy: 0.8000\n",
      "Epoch 35/50\n",
      "7/7 [==============================] - ETA: 0s - loss: 0.2093 - categorical_accuracy: 0.9698\n",
      "Epoch 00035: ReduceLROnPlateau reducing learning rate to 0.0002500000118743628.\n",
      "7/7 [==============================] - 69s 10s/step - loss: 0.2093 - categorical_accuracy: 0.9698 - val_loss: 0.7776 - val_categorical_accuracy: 0.8000\n",
      "Epoch 36/50\n",
      "4/7 [================>.............] - ETA: 18s - loss: 0.2313 - categorical_accuracy: 0.9575\n",
      "Epoch 00036: saving model to model_init_2021-06-2520_46_22.319770/model-00036-0.21548-0.96200.h5\n",
      "7/7 [==============================] - 68s 10s/step - loss: 0.2281 - categorical_accuracy: 0.9563 - val_loss: 0.8020 - val_categorical_accuracy: 0.8000\n",
      "Epoch 37/50\n",
      "7/7 [==============================] - 69s 10s/step - loss: 0.2186 - categorical_accuracy: 0.9608 - val_loss: 0.8167 - val_categorical_accuracy: 0.7900\n",
      "Epoch 38/50\n",
      "3/7 [===========>..................] - ETA: 22s - loss: 0.2044 - categorical_accuracy: 0.9767"
     ]
    }
   ],
   "source": [
    "history = model.fit(train_generator, steps_per_epoch=steps_per_epoch, epochs=num_epochs, verbose=1,callbacks=callbacks_list, validation_data=val_generator,validation_steps=validation_steps, class_weight=None, workers=1, initial_epoch=0)"
   ]
  },
  {
   "cell_type": "code",
   "execution_count": null,
   "metadata": {},
   "outputs": [],
   "source": []
  },
  {
   "cell_type": "code",
   "execution_count": null,
   "metadata": {},
   "outputs": [],
   "source": []
  },
  {
   "cell_type": "code",
   "execution_count": null,
   "metadata": {},
   "outputs": [],
   "source": []
  },
  {
   "cell_type": "code",
   "execution_count": null,
   "metadata": {},
   "outputs": [],
   "source": []
  },
  {
   "cell_type": "code",
   "execution_count": null,
   "metadata": {},
   "outputs": [],
   "source": []
  },
  {
   "cell_type": "code",
   "execution_count": null,
   "metadata": {},
   "outputs": [],
   "source": []
  },
  {
   "cell_type": "code",
   "execution_count": null,
   "metadata": {},
   "outputs": [],
   "source": []
  },
  {
   "cell_type": "code",
   "execution_count": null,
   "metadata": {},
   "outputs": [],
   "source": []
  },
  {
   "cell_type": "code",
   "execution_count": null,
   "metadata": {},
   "outputs": [],
   "source": []
  },
  {
   "cell_type": "code",
   "execution_count": null,
   "metadata": {},
   "outputs": [],
   "source": []
  },
  {
   "cell_type": "code",
   "execution_count": null,
   "metadata": {},
   "outputs": [],
   "source": []
  },
  {
   "cell_type": "code",
   "execution_count": null,
   "metadata": {},
   "outputs": [],
   "source": []
  },
  {
   "cell_type": "code",
   "execution_count": null,
   "metadata": {},
   "outputs": [],
   "source": []
  },
  {
   "cell_type": "code",
   "execution_count": null,
   "metadata": {},
   "outputs": [],
   "source": []
  },
  {
   "cell_type": "code",
   "execution_count": null,
   "metadata": {},
   "outputs": [],
   "source": []
  },
  {
   "cell_type": "code",
   "execution_count": null,
   "metadata": {},
   "outputs": [],
   "source": []
  },
  {
   "cell_type": "code",
   "execution_count": null,
   "metadata": {},
   "outputs": [],
   "source": []
  },
  {
   "cell_type": "code",
   "execution_count": null,
   "metadata": {},
   "outputs": [],
   "source": []
  }
 ],
 "metadata": {
  "kernelspec": {
   "display_name": "Python 3",
   "language": "python",
   "name": "python3"
  },
  "language_info": {
   "codemirror_mode": {
    "name": "ipython",
    "version": 3
   },
   "file_extension": ".py",
   "mimetype": "text/x-python",
   "name": "python",
   "nbconvert_exporter": "python",
   "pygments_lexer": "ipython3",
   "version": "3.8.5"
  }
 },
 "nbformat": 4,
 "nbformat_minor": 4
}
